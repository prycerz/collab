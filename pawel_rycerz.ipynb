{
  "nbformat": 4,
  "nbformat_minor": 0,
  "metadata": {
    "colab": {
      "provenance": [],
      "authorship_tag": "ABX9TyN2t1kR2Oonr71JLq+ZiBMF",
      "include_colab_link": true
    },
    "kernelspec": {
      "name": "python3",
      "display_name": "Python 3"
    },
    "language_info": {
      "name": "python"
    }
  },
  "cells": [
    {
      "cell_type": "markdown",
      "metadata": {
        "id": "view-in-github",
        "colab_type": "text"
      },
      "source": [
        "<a href=\"https://colab.research.google.com/github/prycerz/collab/blob/main/pawel_rycerz.ipynb\" target=\"_parent\"><img src=\"https://colab.research.google.com/assets/colab-badge.svg\" alt=\"Open In Colab\"/></a>"
      ]
    },
    {
      "cell_type": "code",
      "execution_count": null,
      "metadata": {
        "id": "fYTjqdfOFd68"
      },
      "outputs": [],
      "source": [
        "# Importowanie bibliotek\n",
        "import math\n",
        "\n",
        "# Funkcja do obliczania współczynnika dwumianowego (symbol Newtona)\n",
        "def binomial_coefficient(n, k):\n",
        "    return math.factorial(n) // (math.factorial(k) * math.factorial(n - k))\n",
        "\n",
        "# Funkcja do generowania Trójkąta Pascala\n",
        "def generate_pascal_triangle(rows):\n",
        "    triangle = []\n",
        "    for i in range(rows):\n",
        "        row = [binomial_coefficient(i, j) for j in range(i + 1)]\n",
        "        triangle.append(row)\n",
        "    return triangle\n",
        "\n",
        "# Funkcja do obliczania kolejnych liczb ciągu Fibonacciego\n",
        "def fibonacci(n):\n",
        "    fib_sequence = [0, 1]\n",
        "    for i in range(2, n):\n",
        "        fib_sequence.append(fib_sequence[-1] + fib_sequence[-2])\n",
        "    return fib_sequence\n",
        "\n",
        "# Wywołanie funkcji i wypisanie wyników\n",
        "rows_pascal = 5  # Możesz dostosować liczbę wierszy Trójkąta Pascala\n",
        "fibonacci_length = 10  # Możesz dostosować długość ciągu Fibonacciego\n",
        "\n",
        "pascal_triangle = generate_pascal_triangle(rows_pascal)\n",
        "fibonacci_sequence = fibonacci(fibonacci_length)\n",
        "\n",
        "# Wypisanie Trójkąta Pascala\n",
        "print(\"Trójkąt Pascala:\")\n",
        "for row in pascal_triangle:\n",
        "    print(row)\n",
        "\n",
        "# Wypisanie ciągu Fibonacciego\n",
        "print(\"\\nCiąg Fibonacciego (pierwsze\", fibonacci_length, \"liczb):\")\n",
        "print(fibonacci_sequence)"
      ]
    }
  ]
}